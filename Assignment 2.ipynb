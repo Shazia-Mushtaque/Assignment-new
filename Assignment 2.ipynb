{
 "cells": [
  {
   "cell_type": "code",
   "execution_count": 7,
   "metadata": {},
   "outputs": [
    {
     "name": "stdout",
     "output_type": "stream",
     "text": [
      "Enter marks of the first subject: 89\n",
      "Enter marks of the second subject: 90\n",
      "Enter marks of the third subject: 98\n",
      "Enter marks of the fourth subject: 90\n",
      "Enter marks of the fifth subject: 98\n",
      "Grade: A\n"
     ]
    }
   ],
   "source": [
    "sub1=int(input(\"Enter marks of the first subject: \"))\n",
    "sub2=int(input(\"Enter marks of the second subject: \"))\n",
    "sub3=int(input(\"Enter marks of the third subject: \"))\n",
    "sub4=int(input(\"Enter marks of the fourth subject: \"))\n",
    "sub5=int(input(\"Enter marks of the fifth subject: \"))\n",
    "avg=(sub1+sub2+sub3+sub4+sub4)/5\n",
    "\n",
    "if(avg >= 90):\n",
    "    \n",
    "    print(\"Grade: A\")\n",
    "\n",
    "elif(avg >= 80 and avg < 90):\n",
    "    \n",
    "    print(\"Grade: B\")\n",
    "\n",
    "elif(avg >= 70 and avg < 80):\n",
    "    \n",
    "    print(\"Grade: C\")\n",
    "\n",
    "elif(avg >= 60 and avg < 70):\n",
    "   \n",
    "    print(\"Grade: D\")\n",
    "\n",
    "else:\n",
    "    \n",
    "    print(\"Grade: F\")\n",
    "\n",
    "\n"
   ]
  },
  {
   "cell_type": "code",
   "execution_count": 9,
   "metadata": {},
   "outputs": [
    {
     "name": "stdout",
     "output_type": "stream",
     "text": [
      "Enter a number: 56\n",
      "This is an even number.\n"
     ]
    }
   ],
   "source": [
    "num = int (input (\"Enter a number: \"))\n",
    "even_odd = num % 2\n",
    "if even_odd > 0:\n",
    "    print (\"This is an odd number.\")\n",
    "else:\n",
    "    print (\"This is an even number.\")\n"
   ]
  },
  {
   "cell_type": "code",
   "execution_count": 11,
   "metadata": {},
   "outputs": [
    {
     "name": "stdout",
     "output_type": "stream",
     "text": [
      "The length of list is:  4\n"
     ]
    }
   ],
   "source": [
    "# Python program to print the length of the list\n",
    "n = len([10, 20, 30, 45]) \n",
    "print (\"The length of list is: \", n) \n"
   ]
  },
  {
   "cell_type": "code",
   "execution_count": 15,
   "metadata": {},
   "outputs": [
    {
     "name": "stdout",
     "output_type": "stream",
     "text": [
      "Sum of all elements in given list:  139\n"
     ]
    }
   ],
   "source": [
    "# Python program to find sum of elements in list \n",
    "total = 0\n",
    "  \n",
    "# creating a list \n",
    "list1 = [76, 5, 17, 18, 23]  \n",
    "  \n",
    "# Iterate each element in list \n",
    "# and add them in variale total \n",
    "for ele in range(0, len(list1)): \n",
    "    total = total + list1[ele] \n",
    "  \n",
    "# printing total value \n",
    "print(\"Sum of all elements in given list: \", total) "
   ]
  },
  {
   "cell_type": "code",
   "execution_count": 17,
   "metadata": {},
   "outputs": [
    {
     "name": "stdout",
     "output_type": "stream",
     "text": [
      "Largest element is: 109\n"
     ]
    }
   ],
   "source": [
    "# Python program to find largest \n",
    "# number in a list \n",
    "# list of numbers \n",
    "list1 = [109, 20, 4, 45, 99] \n",
    "# sorting the list \n",
    "list1.sort() \n",
    "# printing the last element \n",
    "print(\"Largest element is:\", list1[-1]) \n"
   ]
  },
  {
   "cell_type": "code",
   "execution_count": 32,
   "metadata": {},
   "outputs": [
    {
     "ename": "IndentationError",
     "evalue": "expected an indented block (<ipython-input-32-ba06108f4196>, line 4)",
     "output_type": "error",
     "traceback": [
      "\u001b[1;36m  File \u001b[1;32m\"<ipython-input-32-ba06108f4196>\"\u001b[1;36m, line \u001b[1;32m4\u001b[0m\n\u001b[1;33m    if i < 5:\u001b[0m\n\u001b[1;37m     ^\u001b[0m\n\u001b[1;31mIndentationError\u001b[0m\u001b[1;31m:\u001b[0m expected an indented block\n"
     ]
    }
   ],
   "source": [
    "a = [1, 1, 2, 3, 5, 8, 13, 21, 34, 55, 89]\n",
    "# prints all elements in a which are less than 5\n",
    "for i in a:\n",
    "if i < 5:\n",
    "print(i)\n"
   ]
  },
  {
   "cell_type": "code",
   "execution_count": 41,
   "metadata": {},
   "outputs": [
    {
     "name": "stdout",
     "output_type": "stream",
     "text": [
      "5\n",
      "[1, 1, 2, 3]\n"
     ]
    }
   ],
   "source": [
    "a = [1, 1, 2, 3, 5, 8, 13, 21, 34, 55, 89]\n",
    "num = int(input())\n",
    "b = list(filter(lambda x: x < num, a))\n",
    "print(b)"
   ]
  },
  {
   "cell_type": "code",
   "execution_count": null,
   "metadata": {},
   "outputs": [],
   "source": []
  },
  {
   "cell_type": "code",
   "execution_count": null,
   "metadata": {},
   "outputs": [],
   "source": []
  }
 ],
 "metadata": {
  "kernelspec": {
   "display_name": "Python 3",
   "language": "python",
   "name": "python3"
  },
  "language_info": {
   "codemirror_mode": {
    "name": "ipython",
    "version": 3
   },
   "file_extension": ".py",
   "mimetype": "text/x-python",
   "name": "python",
   "nbconvert_exporter": "python",
   "pygments_lexer": "ipython3",
   "version": "3.7.4"
  }
 },
 "nbformat": 4,
 "nbformat_minor": 2
}
